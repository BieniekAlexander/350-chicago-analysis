{
 "cells": [
  {
   "cell_type": "markdown",
   "metadata": {},
   "source": [
    "# Create datasets for congressional CEJA stances"
   ]
  },
  {
   "cell_type": "code",
   "execution_count": 5,
   "metadata": {},
   "outputs": [
    {
     "name": "stderr",
     "output_type": "stream",
     "text": [
      "/home/alex/Software/anaconda3/envs/350-chicago-vis/lib/python3.10/site-packages/fuzzywuzzy/fuzz.py:11: UserWarning: Using slow pure-python SequenceMatcher. Install python-Levenshtein to remove this warning\n",
      "  warnings.warn('Using slow pure-python SequenceMatcher. Install python-Levenshtein to remove this warning')\n"
     ]
    }
   ],
   "source": [
    "# imports\n",
    "from pandasql import sqldf\n",
    "import pandas as pd\n",
    "from fuzzywuzzy import fuzz"
   ]
  },
  {
   "cell_type": "code",
   "execution_count": 62,
   "metadata": {},
   "outputs": [],
   "source": [
    "# load data\n",
    "ceja_supporters_reps = pd.read_csv('data/government/ceja-supporters-reps.tsv', sep='\\t')\n",
    "ceja_supporters_sens = pd.read_csv('data/government/ceja-supporters-senators.tsv', sep='\\t')\n",
    "\n",
    "reps = pd.read_csv('data/government/reps.tsv', sep='\\t')\n",
    "sens = pd.read_csv('data/government/senators.tsv', sep='\\t')"
   ]
  },
  {
   "cell_type": "code",
   "execution_count": 70,
   "metadata": {},
   "outputs": [
    {
     "data": {
      "text/plain": [
       "34"
      ]
     },
     "execution_count": 70,
     "metadata": {},
     "output_type": "execute_result"
    }
   ],
   "source": [
    "len(ceja_supporters_sens)"
   ]
  },
  {
   "cell_type": "code",
   "execution_count": 17,
   "metadata": {},
   "outputs": [
    {
     "name": "stdout",
     "output_type": "stream",
     "text": [
      "matched Carol Ammons to Carol Ammons\n",
      "matched Jaime M. Andrade, Jr. to Jaime M. Andrade, Jr.\n",
      "matched Kambium Buckner to Kambium Buckner\n",
      "matched Kelly M. Burke to Kelly M. Burke\n",
      "matched Jonathan Carroll to Jonathan Carroll\n",
      "matched Kelly M. Cassidy to Kelly M. Cassidy\n",
      "matched Lakesia Collins to Lakesia Collins\n",
      "matched Deb Conroy to Deb Conroy\n",
      "matched Terra Costa Howard to Terra Costa Howard\n",
      "matched Anthony DeLuca to Anthony DeLuca\n",
      "matched Daniel Didech to Daniel Didech\n",
      "matched Robyn Gabel to Robyn Gabel\n",
      "matched Jennifer Gong-Gershowitz to Jennifer Gong-Gershowitz\n",
      "matched Edgar Gonzalez, Jr. to Edgar Gonzalez, Jr.\n",
      "matched Will Guzzardi to Will Guzzardi\n",
      "matched Michael Halpin to Michael Halpin\n",
      "matched Sonya M. Harper to Sonya M. Harper\n",
      "matched Barbara Hernandez to Barbara Hernandez\n",
      "matched Elizabeth Hernandez to Elizabeth Hernandez\n",
      "matched Frances Ann Hurley to Frances Ann Hurley\n",
      "matched Lindsey LaPointe to Lindsey LaPointe\n",
      "matched Theresa Mah to Theresa Mah\n",
      "matched Natalie A. Manley to Natalie A. Manley\n",
      "matched Joyce Mason to Joyce Mason\n",
      "matched Rita Mayfield to Rita Mayfield\n",
      "matched Debbie Meyers-Martin to Debbie Meyers-Martin\n",
      "matched Anna Moeller to Anna Moeller\n",
      "matched Bob Morgan to Bob Morgan\n",
      "matched Martin J. Moylan to Martin J. Moylan\n",
      "matched Michelle Mussman to Michelle Mussman\n",
      "matched Aaron M. Ortiz to Aaron M. Ortiz\n",
      "matched Delia C. Ramirez to Delia C. Ramirez\n",
      "matched Robert Rita to Robert Rita\n",
      "matched Lamont J. Robinson, Jr. to Lamont J. Robinson Jr.\n",
      "matched Justin Slaughter to Justin Slaughter\n",
      "matched Nicholas K. Smith to Nicholas K. Smith\n",
      "matched Anne Stava-Murray to Anne Stava-Murray\n",
      "matched Curtis J. Tarver, II to Curtis J. Tarver, II\n",
      "matched Mark L. Walker to Mark L. Walker\n",
      "matched Lawrence Walsh, Jr. to Lawrence Walsh, Jr.\n",
      "matched Emanuel Chris Welch to Emanuel Chris Welch\n",
      "matched Maurice A. West, II to Maurice A. West, II\n",
      "matched Ann M. Williams to Ann M. Williams\n",
      "matched Jawaharial Williams to Jawaharial Williams\n",
      "matched Kathleen Willis to Kathleen Willis\n",
      "matched Sam Yingling to Sam Yingling\n",
      "matched Michael J. Zalewski to Michael J. Zalewski\n"
     ]
    }
   ],
   "source": [
    "# use fuzzy strings to match politician names\n",
    "# write the version in the rep/sen name CSV as a source of truth\n",
    "# https://towardsdatascience.com/fuzzy-string-matching-in-python-68f240d910fe\n",
    "# TODO sen join seems wrong? there's 34 sens in the list of names of sponsors, but less than that in the join\n",
    "# maybe some sponsors are no longer in office, so not in that list of sens?\n",
    "\n",
    "for rep in reps['name']:\n",
    "    for i in range(len(ceja_supporters_reps.index)):\n",
    "        if fuzz.partial_ratio(rep, ceja_supporters_reps['name'][i]) > 90:\n",
    "            print(f\"matched {rep} to {ceja_supporters_reps['name'][i]}\")\n",
    "            ceja_supporters_reps['name'][i] = rep\n",
    "            break\n",
    "                  \n",
    "for sen in sens['name']:\n",
    "    for i in range(len(ceja_supporters_sens.index)):\n",
    "        if fuzz.partial_ratio(sen, ceja_supporters_sens['name'][i]) > 90:\n",
    "            print(f\"matched {sen} to {ceja_supporters_sens['name'][i]}\")\n",
    "            ceja_supporters_sens['name'][i] = sen\n",
    "            break"
   ]
  },
  {
   "cell_type": "code",
   "execution_count": 48,
   "metadata": {
    "scrolled": false
   },
   "outputs": [],
   "source": [
    "q_reps = \"\"\"\n",
    "SELECT reps.name, reps.district, 'True' as supports_ceja\n",
    "FROM reps, ceja_supporters_reps\n",
    "WHERE reps.name = ceja_supporters_reps.name\n",
    "UNION\n",
    "SELECT reps.name, reps.district, 'False' as supports_ceja\n",
    "FROM reps\n",
    "WHERE NOT EXISTS (\n",
    "    SELECT NULL\n",
    "    FROM ceja_supporters_reps\n",
    "    WHERE reps.name = ceja_supporters_reps.name\n",
    ")\n",
    "\"\"\"\n",
    "ceja_support_reps = sqldf(q_reps, globals())"
   ]
  },
  {
   "cell_type": "code",
   "execution_count": 49,
   "metadata": {},
   "outputs": [],
   "source": [
    "q_sens = \"\"\"\n",
    "SELECT sens.name, sens.district, 'True' as supports_ceja\n",
    "FROM sens, ceja_supporters_sens\n",
    "WHERE sens.name = ceja_supporters_sens.name\n",
    "UNION\n",
    "SELECT sens.name, sens.district, 'False' as supports_ceja\n",
    "FROM sens\n",
    "WHERE NOT EXISTS (\n",
    "    SELECT NULL\n",
    "    FROM ceja_supporters_sens\n",
    "    WHERE sens.name = ceja_supporters_sens.name\n",
    ")\n",
    "\"\"\"\n",
    "ceja_support_sens = sqldf(q_sens, globals())"
   ]
  },
  {
   "cell_type": "code",
   "execution_count": 69,
   "metadata": {},
   "outputs": [
    {
     "data": {
      "text/plain": [
       "31"
      ]
     },
     "execution_count": 69,
     "metadata": {},
     "output_type": "execute_result"
    }
   ],
   "source": [
    "len(ceja_support_sens[ceja_support_sens['supports_ceja']==\"False\"])"
   ]
  },
  {
   "cell_type": "code",
   "execution_count": 50,
   "metadata": {},
   "outputs": [],
   "source": [
    "ceja_support_reps.to_csv('data/government/ceja-support-reps.tsv', sep=\"\\t\")\n",
    "ceja_support_sens.to_csv('data/government/ceja-support-sens.tsv', sep=\"\\t\")"
   ]
  }
 ],
 "metadata": {
  "kernelspec": {
   "display_name": "Python (350-chicago-vis)",
   "language": "python",
   "name": "myenv"
  },
  "language_info": {
   "codemirror_mode": {
    "name": "ipython",
    "version": 3
   },
   "file_extension": ".py",
   "mimetype": "text/x-python",
   "name": "python",
   "nbconvert_exporter": "python",
   "pygments_lexer": "ipython3",
   "version": "3.10.5"
  }
 },
 "nbformat": 4,
 "nbformat_minor": 2
}
