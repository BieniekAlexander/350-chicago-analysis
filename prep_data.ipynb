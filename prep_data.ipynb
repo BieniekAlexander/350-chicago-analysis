{
 "cells": [
  {
   "cell_type": "markdown",
   "metadata": {},
   "source": [
    "# Create datasets for congressional CEJA stances"
   ]
  },
  {
   "cell_type": "code",
   "execution_count": null,
   "metadata": {},
   "outputs": [],
   "source": [
    "# imports\n",
    "from pandasql import sqldf\n",
    "import pandas as pd\n",
    "from fuzzywuzzy import fuzz"
   ]
  },
  {
   "cell_type": "markdown",
   "metadata": {},
   "source": [
    "## Ceja Sponsorship"
   ]
  },
  {
   "cell_type": "code",
   "execution_count": null,
   "metadata": {},
   "outputs": [],
   "source": [
    "# load data\n",
    "ceja_supporters_reps = pd.read_csv('data/government/illinois/legislature/ceja/ceja-sponsors-reps.tsv', sep='\\t', comment=\"#\")\n",
    "ceja_supporters_sens = pd.read_csv('data/government/illinois/legislature/ceja/ceja-sponsors-sens.tsv', sep='\\t', comment=\"#\")\n",
    "\n",
    "reps = pd.read_csv('data/government/illinois/legislature/reps-102.tsv', sep='\\t', comment=\"#\")\n",
    "sens = pd.read_csv('data/government/illinois/legislature/sens-102.tsv', sep='\\t', comment=\"#\")"
   ]
  },
  {
   "cell_type": "code",
   "execution_count": null,
   "metadata": {},
   "outputs": [],
   "source": [
    "len(ceja_supporters_sens)"
   ]
  },
  {
   "cell_type": "code",
   "execution_count": null,
   "metadata": {},
   "outputs": [],
   "source": [
    "# use fuzzy strings to match politician names\n",
    "# write the version in the rep/sen name CSV as a source of truth\n",
    "# https://towardsdatascience.com/fuzzy-string-matching-in-python-68f240d910fe\n",
    "# TODO sen join seems wrong? there's 34 sens in the list of names of sponsors, but less than that in the join\n",
    "# maybe some sponsors are no longer in office, so not in that list of sens?\n",
    "\n",
    "for rep in reps['name']:\n",
    "    for i in range(len(ceja_supporters_reps.index)):\n",
    "        if fuzz.partial_ratio(rep, ceja_supporters_reps['name'][i]) > 90:\n",
    "            print(f\"matched {rep} to {ceja_supporters_reps['name'][i]}\")\n",
    "            ceja_supporters_reps['name'][i] = rep\n",
    "            break\n",
    "                  \n",
    "for sen in sens['name']:\n",
    "    for i in range(len(ceja_supporters_sens.index)):\n",
    "        if fuzz.partial_ratio(sen, ceja_supporters_sens['name'][i]) > 90:\n",
    "            print(f\"matched {sen} to {ceja_supporters_sens['name'][i]}\")\n",
    "            ceja_supporters_sens['name'][i] = sen\n",
    "            break"
   ]
  },
  {
   "cell_type": "code",
   "execution_count": null,
   "metadata": {
    "scrolled": false
   },
   "outputs": [],
   "source": [
    "q_reps = \"\"\"\n",
    "SELECT reps.name, reps.district, 'True' as supports_ceja\n",
    "FROM reps, ceja_supporters_reps\n",
    "WHERE reps.name = ceja_supporters_reps.name\n",
    "UNION\n",
    "SELECT reps.name, reps.district, 'False' as supports_ceja\n",
    "FROM reps\n",
    "WHERE NOT EXISTS (\n",
    "    SELECT NULL\n",
    "    FROM ceja_supporters_reps\n",
    "    WHERE reps.name = ceja_supporters_reps.name\n",
    ")\n",
    "\"\"\"\n",
    "ceja_support_reps = sqldf(q_reps, globals())"
   ]
  },
  {
   "cell_type": "code",
   "execution_count": null,
   "metadata": {},
   "outputs": [],
   "source": [
    "q_sens = \"\"\"\n",
    "SELECT sens.name, sens.district, 'True' as supports_ceja\n",
    "FROM sens, ceja_supporters_sens\n",
    "WHERE sens.name = ceja_supporters_sens.name\n",
    "UNION\n",
    "SELECT sens.name, sens.district, 'False' as supports_ceja\n",
    "FROM sens\n",
    "WHERE NOT EXISTS (\n",
    "    SELECT NULL\n",
    "    FROM ceja_supporters_sens\n",
    "    WHERE sens.name = ceja_supporters_sens.name\n",
    ")\n",
    "\"\"\"\n",
    "ceja_support_sens = sqldf(q_sens, globals())"
   ]
  },
  {
   "cell_type": "code",
   "execution_count": null,
   "metadata": {},
   "outputs": [],
   "source": [
    "len(ceja_support_sens[ceja_support_sens['supports_ceja']==\"False\"])"
   ]
  },
  {
   "cell_type": "code",
   "execution_count": null,
   "metadata": {},
   "outputs": [],
   "source": [
    "ceja_support_reps.to_csv('data/government/illinois/legislature/ceja/ceja-sponsorship-reps.tsv', sep=\"\\t\", index=False)\n",
    "ceja_support_sens.to_csv('data/government/illinois/legislature/ceja/ceja-sponsorship-sens.tsv', sep=\"\\t\", index=False)"
   ]
  },
  {
   "cell_type": "markdown",
   "metadata": {},
   "source": [
    "## Processing Data for SB2408 Votes"
   ]
  },
  {
   "cell_type": "code",
   "execution_count": 95,
   "metadata": {},
   "outputs": [],
   "source": [
    "# load data\n",
    "ceja_votes_reps = pd.read_csv('data/government/illinois/legislature/ceja/sb2408-votes-house-raw.tsv', sep='\\t', comment=\"#\")\n",
    "ceja_votes_sens = pd.read_csv('data/government/illinois/legislature/ceja/sb2408-votes-senate-raw.tsv', sep='\\t', comment=\"#\")\n",
    "\n",
    "reps = pd.read_csv('data/government/illinois/legislature/reps-102.tsv', sep='\\t', comment=\"#\")\n",
    "sens = pd.read_csv('data/government/illinois/legislature/sens-102.tsv', sep='\\t', comment=\"#\")"
   ]
  },
  {
   "cell_type": "code",
   "execution_count": 97,
   "metadata": {},
   "outputs": [],
   "source": [
    "# use fuzzy strings to match politician names\n",
    "# NOTE: the matching here doesn't catch every match - between this cell and the next, I manually finish matching the names in the CSV\n",
    "# write the version in the rep/sen name CSV as a source of truth\n",
    "# https://towardsdatascience.com/fuzzy-string-matching-in-python-68f240d910fe\n",
    "\n",
    "ceja_votes_reps['name'] = None\n",
    "ceja_votes_sens['name'] = None\n",
    "\n",
    "for rep in reps['name']:\n",
    "    for i in range(len(ceja_votes_reps.index)):\n",
    "        parsed_name = ceja_votes_reps['name_raw'][i][5:].split('[')[0]\n",
    "        ln, fn = parsed_name.split(', ')\n",
    "        rep_name = f\"{fn} {ln}\"\n",
    "\n",
    "        if fuzz.partial_ratio(rep, rep_name) > 90:\n",
    "            ceja_votes_reps['name'][i] = rep\n",
    "            break\n",
    "                  \n",
    "for sen in sens['name']:\n",
    "    for i in range(len(ceja_votes_sens.index)):\n",
    "        parsed_name = ceja_votes_sens['name_raw'][i][5:].split('[')[0]\n",
    "        ln, fn = parsed_name.split(', ')\n",
    "        sen_name = f\"{fn} {ln}\"\n",
    "\n",
    "        if fuzz.partial_ratio(sen, sen_name) > 90:\n",
    "            ceja_votes_sens['name'][i] = sen\n",
    "            break\n",
    "\n",
    "ceja_votes_reps.to_csv('data/government/illinois/legislature/ceja/sb2408-votes-house.tsv', sep=\"\\t\", index=False)\n",
    "ceja_votes_sens.to_csv('data/government/illinois/legislature/ceja/sb2408-votes-senate.tsv', sep=\"\\t\", index=False)"
   ]
  },
  {
   "cell_type": "code",
   "execution_count": 105,
   "metadata": {},
   "outputs": [],
   "source": [
    "# NOTE: not all names were matched by fuzzy matching, I will manually join the remaining name entries before performing this join\n",
    "# this might be sacrilege, I'll note it here -> John D'Amico resigned, I'll fill his parsed \"name\" entry with the person now in his seat (Michael Kelly)\n",
    "ceja_votes_reps = pd.read_csv('data/government/illinois/legislature/ceja/sb2408-votes-house.tsv', sep='\\t', comment=\"#\")\n",
    "ceja_votes_sens = pd.read_csv('data/government/illinois/legislature/ceja/sb2408-votes-senate.tsv', sep='\\t', comment=\"#\")\n",
    "\n",
    "if any(ceja_votes_reps['name'].isnull()):\n",
    "    print(ceja_votes_reps[ceja_votes_reps['name'].isnull()])\n",
    "    raise Exception(\"not all names matched)\")\n",
    "else:\n",
    "    reps_district_join = reps[['name', 'district']]\n",
    "    ceja_votes_reps = ceja_votes_reps.merge(reps_district_join, on='name', how='left', suffixes=('', '_DROP')).filter(regex='^(?!.*_DROP)').astype({'district': 'int32'})\n",
    "\n",
    "if any(ceja_votes_sens['name'].isnull()):\n",
    "    print(ceja_votes_reps[ceja_votes_sens['name'].isnull()])\n",
    "    raise Exception(\"not all names matched)\")\n",
    "else:\n",
    "    sens_district_join = sens[['name', 'district']]\n",
    "    ceja_votes_sens = ceja_votes_sens.merge(sens_district_join, on='name', how='left', suffixes=('', '_DROP')).filter(regex='^(?!.*_DROP)').astype({'district': 'int32'})\n",
    "\n",
    "ceja_votes_reps.to_csv('data/government/illinois/legislature/ceja/sb2408-votes-house.tsv', sep=\"\\t\", index=False)\n",
    "ceja_votes_sens.to_csv('data/government/illinois/legislature/ceja/sb2408-votes-senate.tsv', sep=\"\\t\", index=False)"
   ]
  },
  {
   "cell_type": "markdown",
   "metadata": {},
   "source": [
    "# Processing coordinate data of Energy Plants"
   ]
  },
  {
   "cell_type": "code",
   "execution_count": null,
   "metadata": {},
   "outputs": [],
   "source": [
    "import re\n",
    "\n",
    "def convertDMSToDD(degrees: str, minutes: str, seconds: str, direction: str):\n",
    "\tdd = float(degrees) + (float(minutes)/60) + (float(seconds)/(60*60))\n",
    "\n",
    "\tif direction == \"S\" or direction == \"W\":\n",
    "\t\tdd *= -1\n",
    "\n",
    "\treturn dd\n",
    "\n",
    "def castDMS(input: str):\n",
    "\t\"\"\"\n",
    "\tcast input from coord to decimal\n",
    "\n",
    "\told regex: /\\d+(\\.\\d+)?°(\\d+(\\.\\d+)?′)?(\\d+(\\.\\d+)?″)?[NESW]/\n",
    "\t\"\"\"\n",
    "\tparts = re.split(\"[^\\d\\w\\.]+\", input)\n",
    "\n",
    "\tif re.match(\"\\d+(\\.\\d+)?°\\d+(\\.\\d+)?′\\d+(\\.\\d+)?″[NESW]\", input):\n",
    "\t\t# 38°16′40.2″N\n",
    "\t\treturn convertDMSToDD(parts[0], parts[1], parts[2], parts[3])\n",
    "\telif re.match(\"\\d+(\\.\\d+)?°\\d+(\\.\\d+)?′[NESW]\", input):\n",
    "\t\t# 38.204°N\n",
    "\t\treturn convertDMSToDD(parts[0], parts[1], 0, parts[2])\n",
    "\telif re.match(\"\\d+(\\.\\d+)?°[NESW]\", input):\n",
    "\t\t# 38°16.12N\n",
    "\t\treturn convertDMSToDD(parts[0], 0, 0, parts[1])\n",
    "\telse:\n",
    "\t\t# it's something else, just return original input\n",
    "\t\treturn input"
   ]
  },
  {
   "cell_type": "code",
   "execution_count": null,
   "metadata": {},
   "outputs": [],
   "source": [
    "import pandas as pd\n",
    "\n",
    "csv_path = \"data/energy/illinois/natural_gas_plants.tsv\"\n",
    "df = pd.read_csv(csv_path, delimiter=\"\\t\")\n",
    "\n",
    "if 'coordinates' in df:\n",
    "    df['yCoordinate'] = df.apply(lambda row: castDMS(row.coordinates.split(' ')[0]), axis=1)\n",
    "    df['xCoordinate'] = df.apply(lambda row: castDMS(row.coordinates.split(' ')[1]), axis=1)\n",
    "    df.to_csv(csv_path, sep=\"\\t\", index=False)\n",
    "else:\n",
    "    print(\"'coordinates' column not found in the file\")"
   ]
  }
 ],
 "metadata": {
  "kernelspec": {
   "display_name": "Python 3.10.4 ('350-chicago-vis')",
   "language": "python",
   "name": "python3"
  },
  "language_info": {
   "codemirror_mode": {
    "name": "ipython",
    "version": 3
   },
   "file_extension": ".py",
   "mimetype": "text/x-python",
   "name": "python",
   "nbconvert_exporter": "python",
   "pygments_lexer": "ipython3",
   "version": "3.7.13"
  },
  "vscode": {
   "interpreter": {
    "hash": "328e9d63c793861827e4672fd9336ea83ec38b8187da8876eb1d9ab766c7b335"
   }
  }
 },
 "nbformat": 4,
 "nbformat_minor": 2
}
