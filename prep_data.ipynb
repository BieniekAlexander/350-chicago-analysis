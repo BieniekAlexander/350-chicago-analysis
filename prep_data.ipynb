{
 "cells": [
  {
   "cell_type": "markdown",
   "metadata": {},
   "source": [
    "# Create datasets for congressional CEJA stances"
   ]
  },
  {
   "cell_type": "code",
   "execution_count": 21,
   "metadata": {},
   "outputs": [],
   "source": [
    "# imports\n",
    "from pandasql import sqldf\n",
    "import pandas as pd\n",
    "from fuzzywuzzy import fuzz"
   ]
  },
  {
   "cell_type": "code",
   "execution_count": 22,
   "metadata": {},
   "outputs": [],
   "source": [
    "# load data\n",
    "ceja_supporters_reps = pd.read_csv('data/government/illinois/votes/ceja-sponsors-reps-raw.tsv', sep='\\t', comment=\"#\")\n",
    "ceja_supporters_sens = pd.read_csv('data/government/illinois/votes/ceja-sponsors-sens-raw.tsv', sep='\\t', comment=\"#\")\n",
    "\n",
    "reps = pd.read_csv('data/government/illinois/votes/reps-102.tsv', sep='\\t', comment=\"#\")\n",
    "sens = pd.read_csv('data/government/illinois/votes/sens-102.tsv', sep='\\t', comment=\"#\")"
   ]
  },
  {
   "cell_type": "code",
   "execution_count": 23,
   "metadata": {},
   "outputs": [
    {
     "data": {
      "text/plain": [
       "34"
      ]
     },
     "execution_count": 23,
     "metadata": {},
     "output_type": "execute_result"
    }
   ],
   "source": [
    "len(ceja_supporters_sens)"
   ]
  },
  {
   "cell_type": "code",
   "execution_count": 24,
   "metadata": {},
   "outputs": [
    {
     "name": "stdout",
     "output_type": "stream",
     "text": [
      "matched Carol Ammons to Carol Ammons\n",
      "matched Jaime M. Andrade, Jr. to Jaime M. Andrade, Jr.\n",
      "matched Kambium Buckner to Kambium Buckner\n",
      "matched Kelly M. Burke to Kelly M. Burke\n",
      "matched Jonathan Carroll to Jonathan Carroll\n",
      "matched Kelly M. Cassidy to Kelly M. Cassidy\n",
      "matched Lakesia Collins to Lakesia Collins\n",
      "matched Deb Conroy to Deb Conroy\n",
      "matched Terra Costa Howard to Terra Costa Howard\n",
      "matched Anthony DeLuca to Anthony DeLuca\n",
      "matched Daniel Didech to Daniel Didech\n",
      "matched Robyn Gabel to Robyn Gabel\n",
      "matched Jennifer Gong-Gershowitz to Jennifer Gong-Gershowitz\n",
      "matched Edgar Gonzalez, Jr. to Edgar Gonzalez, Jr.\n",
      "matched Will Guzzardi to Will Guzzardi\n",
      "matched Michael Halpin to Michael Halpin\n",
      "matched Sonya M. Harper to Sonya M. Harper\n",
      "matched Barbara Hernandez to Barbara Hernandez\n",
      "matched Elizabeth Hernandez to Elizabeth Hernandez\n",
      "matched Frances Ann Hurley to Frances Ann Hurley\n",
      "matched Lindsey LaPointe to Lindsey LaPointe\n",
      "matched Theresa Mah to Theresa Mah\n",
      "matched Natalie A. Manley to Natalie A. Manley\n",
      "matched Joyce Mason to Joyce Mason\n",
      "matched Rita Mayfield to Rita Mayfield\n",
      "matched Debbie Meyers-Martin to Debbie Meyers-Martin\n",
      "matched Anna Moeller to Anna Moeller\n",
      "matched Bob Morgan to Bob Morgan\n",
      "matched Martin J. Moylan to Martin J. Moylan\n",
      "matched Michelle Mussman to Michelle Mussman\n",
      "matched Aaron M. Ortiz to Aaron M. Ortiz\n",
      "matched Delia C. Ramirez to Delia C. Ramirez\n",
      "matched Robert Rita to Robert Rita\n",
      "matched Lamont J. Robinson, Jr. to Lamont J. Robinson, Jr.\n",
      "matched Justin Slaughter to Justin Slaughter\n",
      "matched Nicholas K. Smith to Nicholas K. Smith\n",
      "matched Anne Stava-Murray to Anne Stava-Murray\n",
      "matched Curtis J. Tarver, II to Curtis J. Tarver, II\n",
      "matched Mark L. Walker to Mark L. Walker\n",
      "matched Lawrence Walsh, Jr. to Lawrence Walsh, Jr.\n",
      "matched Emanuel Chris Welch to Emanuel Chris Welch\n",
      "matched Maurice A. West, II to Maurice A. West, II\n",
      "matched Ann M. Williams to Ann M. Williams\n",
      "matched Jawaharial Williams to Jawaharial Williams\n",
      "matched Kathleen Willis to Kathleen Willis\n",
      "matched Sam Yingling to Sam Yingling\n",
      "matched Michael J. Zalewski to Michael J. Zalewski\n",
      "matched Omar Aquino to Omar Aquino\n",
      "matched Scott M. Bennett to Scott M. Bennett\n",
      "matched Melinda Bush to Melinda Bush\n",
      "matched Cristina Castro to Cristina Castro\n",
      "matched Jacqueline Y. Collins to Jacqueline Y. Collins\n",
      "matched Bill Cunningham to Bill Cunningham\n",
      "matched Laura Ellman to Laura Ellman\n",
      "matched Sara Feigenholtz to Sara Feigenholtz\n",
      "matched Laura Fine to Laura Fine\n",
      "matched Ann Gillespie to Ann Gillespie\n",
      "matched Napoleon Harris, III to Napoleon Harris, III\n",
      "matched Michael E. Hastings to Michael E. Hastings\n",
      "matched Mattie Hunter to Mattie Hunter\n",
      "matched Adriane Johnson to Adriane Johnson\n",
      "matched Emil Jones, III to Emil Jones, III\n",
      "matched David Koehler to David Koehler\n",
      "matched Kimberly A. Lightford to Kimberly A. Lightford\n",
      "matched Robert F. Martwick to Robert F. Martwick\n",
      "matched Julie A. Morrison to Julie A. Morrison\n",
      "matched Antonio Muñoz to Antonio Muñoz\n",
      "matched Laura M. Murphy to Laura M. Murphy\n",
      "matched Robert Peters to Robert Peters\n",
      "matched Elgie R. Sims, Jr. to Elgie R. Sims, Jr.\n",
      "matched Steve Stadelman to Steve Stadelman\n",
      "matched Patricia Van Pelt to Patricia Van Pelt\n",
      "matched Celina Villanueva to Celina Villanueva\n",
      "matched Ram Villivalam to Ram Villivalam\n"
     ]
    }
   ],
   "source": [
    "# use fuzzy strings to match politician names\n",
    "# write the version in the rep/sen name CSV as a source of truth\n",
    "# https://towardsdatascience.com/fuzzy-string-matching-in-python-68f240d910fe\n",
    "# TODO sen join seems wrong? there's 34 sens in the list of names of sponsors, but less than that in the join\n",
    "# maybe some sponsors are no longer in office, so not in that list of sens?\n",
    "\n",
    "for rep in reps['name']:\n",
    "    for i in range(len(ceja_supporters_reps.index)):\n",
    "        if fuzz.partial_ratio(rep, ceja_supporters_reps['name'][i]) > 90:\n",
    "            print(f\"matched {rep} to {ceja_supporters_reps['name'][i]}\")\n",
    "            ceja_supporters_reps['name'][i] = rep\n",
    "            break\n",
    "                  \n",
    "for sen in sens['name']:\n",
    "    for i in range(len(ceja_supporters_sens.index)):\n",
    "        if fuzz.partial_ratio(sen, ceja_supporters_sens['name'][i]) > 90:\n",
    "            print(f\"matched {sen} to {ceja_supporters_sens['name'][i]}\")\n",
    "            ceja_supporters_sens['name'][i] = sen\n",
    "            break"
   ]
  },
  {
   "cell_type": "code",
   "execution_count": 25,
   "metadata": {
    "scrolled": false
   },
   "outputs": [],
   "source": [
    "q_reps = \"\"\"\n",
    "SELECT reps.name, reps.district, 'True' as supports_ceja\n",
    "FROM reps, ceja_supporters_reps\n",
    "WHERE reps.name = ceja_supporters_reps.name\n",
    "UNION\n",
    "SELECT reps.name, reps.district, 'False' as supports_ceja\n",
    "FROM reps\n",
    "WHERE NOT EXISTS (\n",
    "    SELECT NULL\n",
    "    FROM ceja_supporters_reps\n",
    "    WHERE reps.name = ceja_supporters_reps.name\n",
    ")\n",
    "\"\"\"\n",
    "ceja_support_reps = sqldf(q_reps, globals())"
   ]
  },
  {
   "cell_type": "code",
   "execution_count": 26,
   "metadata": {},
   "outputs": [],
   "source": [
    "q_sens = \"\"\"\n",
    "SELECT sens.name, sens.district, 'True' as supports_ceja\n",
    "FROM sens, ceja_supporters_sens\n",
    "WHERE sens.name = ceja_supporters_sens.name\n",
    "UNION\n",
    "SELECT sens.name, sens.district, 'False' as supports_ceja\n",
    "FROM sens\n",
    "WHERE NOT EXISTS (\n",
    "    SELECT NULL\n",
    "    FROM ceja_supporters_sens\n",
    "    WHERE sens.name = ceja_supporters_sens.name\n",
    ")\n",
    "\"\"\"\n",
    "ceja_support_sens = sqldf(q_sens, globals())"
   ]
  },
  {
   "cell_type": "code",
   "execution_count": 27,
   "metadata": {},
   "outputs": [
    {
     "data": {
      "text/plain": [
       "32"
      ]
     },
     "execution_count": 27,
     "metadata": {},
     "output_type": "execute_result"
    }
   ],
   "source": [
    "len(ceja_support_sens[ceja_support_sens['supports_ceja']==\"False\"])"
   ]
  },
  {
   "cell_type": "code",
   "execution_count": 28,
   "metadata": {},
   "outputs": [],
   "source": [
    "ceja_support_reps.to_csv('data/government/illinois/ceja-sponsors-reps.tsv', sep=\"\\t\", index=False)\n",
    "ceja_support_sens.to_csv('data/government/illinois/ceja-sponsors-sens.tsv', sep=\"\\t\", index=False)"
   ]
  },
  {
   "cell_type": "markdown",
   "metadata": {},
   "source": [
    "# Processing coordinate data"
   ]
  },
  {
   "cell_type": "code",
   "execution_count": 29,
   "metadata": {},
   "outputs": [],
   "source": [
    "import re\n",
    "\n",
    "def convertDMSToDD(degrees: str, minutes: str, seconds: str, direction: str):\n",
    "\tdd = float(degrees) + (float(minutes)/60) + (float(seconds)/(60*60))\n",
    "\n",
    "\tif direction == \"S\" or direction == \"W\":\n",
    "\t\tdd *= -1\n",
    "\n",
    "\treturn dd\n",
    "\n",
    "def castDMS(input: str):\n",
    "\t\"\"\"\n",
    "\tcast input from coord to decimal\n",
    "\n",
    "\told regex: /\\d+(\\.\\d+)?°(\\d+(\\.\\d+)?′)?(\\d+(\\.\\d+)?″)?[NESW]/\n",
    "\t\"\"\"\n",
    "\tparts = re.split(\"[^\\d\\w\\.]+\", input)\n",
    "\n",
    "\tif re.match(\"\\d+(\\.\\d+)?°\\d+(\\.\\d+)?′\\d+(\\.\\d+)?″[NESW]\", input):\n",
    "\t\t# 38°16′40.2″N\n",
    "\t\treturn convertDMSToDD(parts[0], parts[1], parts[2], parts[3])\n",
    "\telif re.match(\"\\d+(\\.\\d+)?°\\d+(\\.\\d+)?′[NESW]\", input):\n",
    "\t\t# 38.204°N\n",
    "\t\treturn convertDMSToDD(parts[0], parts[1], 0, parts[2])\n",
    "\telif re.match(\"\\d+(\\.\\d+)?°[NESW]\", input):\n",
    "\t\t# 38°16.12N\n",
    "\t\treturn convertDMSToDD(parts[0], 0, 0, parts[1])\n",
    "\telse:\n",
    "\t\t# it's something else, just return original input\n",
    "\t\treturn input"
   ]
  },
  {
   "cell_type": "code",
   "execution_count": 43,
   "metadata": {},
   "outputs": [],
   "source": [
    "import pandas as pd\n",
    "\n",
    "csv_path = \"data/energy/illinois/natural_gas_plants.tsv\"\n",
    "df = pd.read_csv(csv_path, delimiter=\"\\t\")\n",
    "\n",
    "if 'coordinates' in df:\n",
    "    df['yCoordinate'] = df.apply(lambda row: castDMS(row.coordinates.split(' ')[0]), axis=1)\n",
    "    df['xCoordinate'] = df.apply(lambda row: castDMS(row.coordinates.split(' ')[1]), axis=1)\n",
    "    df.to_csv(csv_path, sep=\"\\t\", index=False)\n",
    "else:\n",
    "    print(\"'coordinates' column not found in the file\")"
   ]
  }
 ],
 "metadata": {
  "kernelspec": {
   "display_name": "Python 3.10.4 ('350-chicago-vis')",
   "language": "python",
   "name": "python3"
  },
  "language_info": {
   "codemirror_mode": {
    "name": "ipython",
    "version": 3
   },
   "file_extension": ".py",
   "mimetype": "text/x-python",
   "name": "python",
   "nbconvert_exporter": "python",
   "pygments_lexer": "ipython3",
   "version": "3.7.13"
  },
  "vscode": {
   "interpreter": {
    "hash": "328e9d63c793861827e4672fd9336ea83ec38b8187da8876eb1d9ab766c7b335"
   }
  }
 },
 "nbformat": 4,
 "nbformat_minor": 2
}
