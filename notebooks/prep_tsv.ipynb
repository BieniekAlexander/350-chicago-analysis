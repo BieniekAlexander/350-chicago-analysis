{
 "cells": [
  {
   "attachments": {},
   "cell_type": "markdown",
   "metadata": {},
   "source": [
    "# Introduction\n",
    "A notebook with utilities for modifying TSV files"
   ]
  },
  {
   "cell_type": "code",
   "execution_count": 2,
   "metadata": {},
   "outputs": [],
   "source": [
    "import pandas as pd"
   ]
  },
  {
   "cell_type": "code",
   "execution_count": 20,
   "metadata": {},
   "outputs": [],
   "source": [
    "# Create a label field for the reps and sens, for visualizations\n",
    "FILE_PATH = '../data/government/illinois/legislature/103/sens.tsv'\n",
    "\n",
    "table = pd.read_csv(FILE_PATH, delimiter='\\t')\n",
    "table = table[['name', 'party', 'district']]\n",
    "table['label'] = table['name']+' ('+table['district'].apply(str)+', '+table['party']+')'\n",
    "table.to_csv(FILE_PATH, sep='\\t', index=False)"
   ]
  }
 ],
 "metadata": {
  "kernelspec": {
   "display_name": "350-chicago-vis",
   "language": "python",
   "name": "python3"
  },
  "language_info": {
   "codemirror_mode": {
    "name": "ipython",
    "version": 3
   },
   "file_extension": ".py",
   "mimetype": "text/x-python",
   "name": "python",
   "nbconvert_exporter": "python",
   "pygments_lexer": "ipython3",
   "version": "3.7.13"
  },
  "orig_nbformat": 4
 },
 "nbformat": 4,
 "nbformat_minor": 2
}
