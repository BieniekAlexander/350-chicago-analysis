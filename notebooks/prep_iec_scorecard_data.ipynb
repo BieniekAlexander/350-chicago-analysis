{
 "cells": [
  {
   "cell_type": "markdown",
   "metadata": {},
   "source": [
    "# Parsing Environmental Scorecard Data"
   ]
  },
  {
   "cell_type": "code",
   "execution_count": null,
   "metadata": {},
   "outputs": [],
   "source": [
    "# imports\n",
    "from pandasql import sqldf\n",
    "import pandas as pd\n",
    "from fuzzywuzzy import fuzz"
   ]
  },
  {
   "cell_type": "code",
   "execution_count": null,
   "metadata": {},
   "outputs": [],
   "source": [
    "# load data\n",
    "iec_scores_reps = pd.read_csv('../data/government/illinois/legislature/iec/iec-scores-reps-2022.tsv', sep='\\t', comment=\"#\")\n",
    "iec_scores_sens = pd.read_csv('../data/government/illinois/legislature/iec/iec-scores-sens-2022.tsv', sep='\\t', comment=\"#\")\n",
    "\n",
    "reps = pd.read_csv('../data/government/illinois/legislature/reps-102.tsv', sep='\\t', comment=\"#\")\n",
    "sens = pd.read_csv('../data/government/illinois/legislature/sens-102.tsv', sep='\\t', comment=\"#\")"
   ]
  },
  {
   "cell_type": "code",
   "execution_count": null,
   "metadata": {},
   "outputs": [],
   "source": [
    "# use fuzzy strings to match politician names\n",
    "# NOTE: the matching here doesn't catch every match - between this cell and the next, I manually finish matching the names in the CSV\n",
    "# write the version in the rep/sen name CSV as a source of truth\n",
    "# https://towardsdatascience.com/fuzzy-string-matching-in-python-68f240d910fe\n",
    "\n",
    "iec_scores_reps['name'] = None\n",
    "iec_scores_sens['name'] = None\n",
    "\n",
    "for rep in reps['name']:\n",
    "    for i in range(len(iec_scores_reps.index)):\n",
    "        scorecard_name = iec_scores_reps['name_raw'][i]\n",
    "\n",
    "        if fuzz.partial_ratio(rep, scorecard_name) > 90:\n",
    "            iec_scores_reps['name'][i] = rep\n",
    "            break\n",
    "                  \n",
    "for sen in sens['name']:\n",
    "    for i in range(len(iec_scores_sens.index)):\n",
    "        scorecard_name = iec_scores_sens['name_raw'][i]\n",
    "\n",
    "        if fuzz.partial_ratio(sen, scorecard_name) > 90:\n",
    "            iec_scores_sens['name'][i] = sen\n",
    "            break\n",
    "\n",
    "iec_scores_reps.to_csv('../data/government/illinois/legislature/iec/iec-scores-reps-2022.tsv', sep=\"\\t\", index=False)\n",
    "iec_scores_sens.to_csv('../data/government/illinois/legislature/iec/iec-scores-sens-2022.tsv', sep=\"\\t\", index=False)"
   ]
  },
  {
   "cell_type": "code",
   "execution_count": null,
   "metadata": {},
   "outputs": [],
   "source": [
    "# NOTE: not all names were matched by fuzzy matching, I will manually join the remaining name entries before performing this join\n",
    "# this might be sacrilege, I'll note it here -> John D'Amico resigned, I'll fill his parsed \"name\" entry with the person now in his seat (Michael Kelly)\n",
    "iec_scores_reps = pd.read_csv('../data/government/illinois/legislature/iec/iec-scores-reps-2022.tsv', sep='\\t', comment=\"#\")\n",
    "iec_scores_sens = pd.read_csv('../data/government/illinois/legislature/iec/iec-scores-sens-2022.tsv', sep='\\t', comment=\"#\")\n",
    "\n",
    "if any(iec_scores_reps['name'].isnull()):\n",
    "    print(iec_scores_reps[iec_scores_reps['name'].isnull()])\n",
    "    raise Exception(\"not all names matched)\")\n",
    "else:\n",
    "    reps_district_join = reps[['name', 'district']]\n",
    "    iec_scores_reps = iec_scores_reps.merge(reps_district_join, on='name', how='left', suffixes=('', '_DROP')).filter(regex='^(?!.*_DROP)').astype({'district': 'int32'})\n",
    "\n",
    "if any(iec_scores_sens['name'].isnull()):\n",
    "    print(iec_scores_sens[iec_scores_sens['name'].isnull()])\n",
    "    raise Exception(\"not all names matched)\")\n",
    "else:\n",
    "    sens_district_join = sens[['name', 'district']]\n",
    "    iec_scores_sens = iec_scores_sens.merge(sens_district_join, on='name', how='left', suffixes=('', '_DROP')).filter(regex='^(?!.*_DROP)').astype({'district': 'int32'})\n",
    "\n",
    "iec_scores_reps.to_csv('../data/government/illinois/legislature/iec/iec-scores-reps-2022.tsv', sep=\"\\t\", index=False)\n",
    "iec_scores_sens.to_csv('../data/government/illinois/legislature/iec/iec-scores-sens-2022.tsv', sep=\"\\t\", index=False)"
   ]
  }
 ],
 "metadata": {
  "kernelspec": {
   "display_name": "Python 3.10.4 ('350-chicago-vis')",
   "language": "python",
   "name": "python3"
  },
  "language_info": {
   "codemirror_mode": {
    "name": "ipython",
    "version": 3
   },
   "file_extension": ".py",
   "mimetype": "text/x-python",
   "name": "python",
   "nbconvert_exporter": "python",
   "pygments_lexer": "ipython3",
   "version": "3.7.13"
  },
  "vscode": {
   "interpreter": {
    "hash": "328e9d63c793861827e4672fd9336ea83ec38b8187da8876eb1d9ab766c7b335"
   }
  }
 },
 "nbformat": 4,
 "nbformat_minor": 2
}
