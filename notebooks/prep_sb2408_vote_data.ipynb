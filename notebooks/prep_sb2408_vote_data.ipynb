{
 "cells": [
  {
   "cell_type": "markdown",
   "metadata": {},
   "source": [
    "# Processing Data for SB2408 Votes"
   ]
  },
  {
   "cell_type": "code",
   "execution_count": null,
   "metadata": {},
   "outputs": [],
   "source": [
    "# imports\n",
    "from pandasql import sqldf\n",
    "import pandas as pd\n",
    "from fuzzywuzzy import fuzz"
   ]
  },
  {
   "cell_type": "code",
   "execution_count": 95,
   "metadata": {},
   "outputs": [],
   "source": [
    "ceja_votes_reps = pd.read_csv('../data/government/illinois/legislature/ceja/sb2408-votes-house-raw.tsv', sep='\\t', comment=\"#\")\n",
    "ceja_votes_sens = pd.read_csv('../data/government/illinois/legislature/ceja/sb2408-votes-senate-raw.tsv', sep='\\t', comment=\"#\")\n",
    "\n",
    "reps = pd.read_csv('../data/government/illinois/legislature/reps-102.tsv', sep='\\t', comment=\"#\")\n",
    "sens = pd.read_csv('../data/government/illinois/legislature/sens-102.tsv', sep='\\t', comment=\"#\")"
   ]
  },
  {
   "cell_type": "code",
   "execution_count": 97,
   "metadata": {},
   "outputs": [],
   "source": [
    "# use fuzzy strings to match politician names\n",
    "# NOTE: the matching here doesn't catch every match - between this cell and the next, I manually finish matching the names in the CSV\n",
    "# write the version in the rep/sen name CSV as a source of truth\n",
    "# https://towardsdatascience.com/fuzzy-string-matching-in-python-68f240d910fe\n",
    "\n",
    "ceja_votes_reps['name'] = None\n",
    "ceja_votes_sens['name'] = None\n",
    "\n",
    "for rep in reps['name']:\n",
    "    for i in range(len(ceja_votes_reps.index)):\n",
    "        parsed_name = ceja_votes_reps['name_raw'][i][5:].split('[')[0]\n",
    "        ln, fn = parsed_name.split(', ')\n",
    "        rep_name = f\"{fn} {ln}\"\n",
    "\n",
    "        if fuzz.partial_ratio(rep, rep_name) > 90:\n",
    "            ceja_votes_reps['name'][i] = rep\n",
    "            break\n",
    "                  \n",
    "for sen in sens['name']:\n",
    "    for i in range(len(ceja_votes_sens.index)):\n",
    "        parsed_name = ceja_votes_sens['name_raw'][i][5:].split('[')[0]\n",
    "        ln, fn = parsed_name.split(', ')\n",
    "        sen_name = f\"{fn} {ln}\"\n",
    "\n",
    "        if fuzz.partial_ratio(sen, sen_name) > 90:\n",
    "            ceja_votes_sens['name'][i] = sen\n",
    "            break\n",
    "\n",
    "ceja_votes_reps.to_csv('../data/government/illinois/legislature/ceja/sb2408-votes-house.tsv', sep=\"\\t\", index=False)\n",
    "ceja_votes_sens.to_csv('../data/government/illinois/legislature/ceja/sb2408-votes-senate.tsv', sep=\"\\t\", index=False)"
   ]
  },
  {
   "cell_type": "code",
   "execution_count": 107,
   "metadata": {},
   "outputs": [],
   "source": [
    "# NOTE: not all names were matched by fuzzy matching, I will manually join the remaining name entries before performing this join\n",
    "# this might be sacrilege, I'll note it here -> John D'Amico resigned, I'll fill his parsed \"name\" entry with the person now in his seat (Michael Kelly)\n",
    "ceja_votes_reps = pd.read_csv('../data/government/illinois/legislature/ceja/sb2408-votes-house.tsv', sep='\\t', comment=\"#\")\n",
    "ceja_votes_sens = pd.read_csv('../data/government/illinois/legislature/ceja/sb2408-votes-senate.tsv', sep='\\t', comment=\"#\")\n",
    "\n",
    "if any(ceja_votes_reps['name'].isnull()):\n",
    "    print(ceja_votes_reps[ceja_votes_reps['name'].isnull()])\n",
    "    raise Exception(\"not all names matched)\")\n",
    "else:\n",
    "    reps_district_join = reps[['name', 'district']]\n",
    "    ceja_votes_reps = ceja_votes_reps.merge(reps_district_join, on='name', how='left', suffixes=('', '_DROP')).filter(regex='^(?!.*_DROP)').astype({'district': 'int32'})\n",
    "\n",
    "if any(ceja_votes_sens['name'].isnull()):\n",
    "    print(ceja_votes_sens[ceja_votes_sens['name'].isnull()])\n",
    "    raise Exception(\"not all names matched)\")\n",
    "else:\n",
    "    sens_district_join = sens[['name', 'district']]\n",
    "    ceja_votes_sens = ceja_votes_sens.merge(sens_district_join, on='name', how='left', suffixes=('', '_DROP')).filter(regex='^(?!.*_DROP)').astype({'district': 'int32'})\n",
    "\n",
    "ceja_votes_reps.to_csv('../data/government/illinois/legislature/ceja/sb2408-votes-house.tsv', sep=\"\\t\", index=False)\n",
    "ceja_votes_sens.to_csv('../data/government/illinois/legislature/ceja/sb2408-votes-senate.tsv', sep=\"\\t\", index=False)"
   ]
  }
 ],
 "metadata": {
  "kernelspec": {
   "display_name": "Python 3.10.4 ('350-chicago-vis')",
   "language": "python",
   "name": "python3"
  },
  "language_info": {
   "codemirror_mode": {
    "name": "ipython",
    "version": 3
   },
   "file_extension": ".py",
   "mimetype": "text/x-python",
   "name": "python",
   "nbconvert_exporter": "python",
   "pygments_lexer": "ipython3",
   "version": "3.7.13"
  },
  "vscode": {
   "interpreter": {
    "hash": "328e9d63c793861827e4672fd9336ea83ec38b8187da8876eb1d9ab766c7b335"
   }
  }
 },
 "nbformat": 4,
 "nbformat_minor": 2
}
