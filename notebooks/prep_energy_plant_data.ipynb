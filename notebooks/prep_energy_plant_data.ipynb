{
 "cells": [
  {
   "cell_type": "markdown",
   "metadata": {},
   "source": [
    "# Prepare Illinois Energy Plant Data"
   ]
  },
  {
   "cell_type": "code",
   "execution_count": null,
   "metadata": {},
   "outputs": [],
   "source": [
    "# imports\n",
    "import pandas as pd\n",
    "import re"
   ]
  },
  {
   "cell_type": "code",
   "execution_count": null,
   "metadata": {},
   "outputs": [],
   "source": [
    "import re\n",
    "\n",
    "def convertDMSToDD(degrees: str, minutes: str, seconds: str, direction: str):\n",
    "\tdd = float(degrees) + (float(minutes)/60) + (float(seconds)/(60*60))\n",
    "\n",
    "\tif direction == \"S\" or direction == \"W\":\n",
    "\t\tdd *= -1\n",
    "\n",
    "\treturn dd\n",
    "\n",
    "def castDMS(input: str):\n",
    "\t\"\"\"\n",
    "\tcast input from coord to decimal\n",
    "\n",
    "\told regex: /\\d+(\\.\\d+)?°(\\d+(\\.\\d+)?′)?(\\d+(\\.\\d+)?″)?[NESW]/\n",
    "\t\"\"\"\n",
    "\tparts = re.split(\"[^\\d\\w\\.]+\", input)\n",
    "\n",
    "\tif re.match(\"\\d+(\\.\\d+)?°\\d+(\\.\\d+)?′\\d+(\\.\\d+)?″[NESW]\", input):\n",
    "\t\t# 38°16′40.2″N\n",
    "\t\treturn convertDMSToDD(parts[0], parts[1], parts[2], parts[3])\n",
    "\telif re.match(\"\\d+(\\.\\d+)?°\\d+(\\.\\d+)?′[NESW]\", input):\n",
    "\t\t# 38.204°N\n",
    "\t\treturn convertDMSToDD(parts[0], parts[1], 0, parts[2])\n",
    "\telif re.match(\"\\d+(\\.\\d+)?°[NESW]\", input):\n",
    "\t\t# 38°16.12N\n",
    "\t\treturn convertDMSToDD(parts[0], 0, 0, parts[1])\n",
    "\telse:\n",
    "\t\t# it's something else, just return original input\n",
    "\t\treturn input"
   ]
  },
  {
   "cell_type": "code",
   "execution_count": null,
   "metadata": {},
   "outputs": [],
   "source": [
    "csv_path = \"../data/energy/illinois/natural_gas_plants.tsv\"\n",
    "df = pd.read_csv(csv_path, delimiter=\"\\t\")\n",
    "\n",
    "if 'coordinates' in df:\n",
    "    df['yCoordinate'] = df.apply(lambda row: castDMS(row.coordinates.split(' ')[0]), axis=1)\n",
    "    df['xCoordinate'] = df.apply(lambda row: castDMS(row.coordinates.split(' ')[1]), axis=1)\n",
    "    df.to_csv(csv_path, sep=\"\\t\", index=False)\n",
    "else:\n",
    "    print(\"'coordinates' column not found in the file\")"
   ]
  }
 ],
 "metadata": {
  "kernelspec": {
   "display_name": "Python 3.10.4 ('350-chicago-vis')",
   "language": "python",
   "name": "python3"
  },
  "language_info": {
   "codemirror_mode": {
    "name": "ipython",
    "version": 3
   },
   "file_extension": ".py",
   "mimetype": "text/x-python",
   "name": "python",
   "nbconvert_exporter": "python",
   "pygments_lexer": "ipython3",
   "version": "3.7.13"
  },
  "vscode": {
   "interpreter": {
    "hash": "328e9d63c793861827e4672fd9336ea83ec38b8187da8876eb1d9ab766c7b335"
   }
  }
 },
 "nbformat": 4,
 "nbformat_minor": 2
}
