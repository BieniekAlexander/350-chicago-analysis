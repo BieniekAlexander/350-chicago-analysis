{
 "cells": [
  {
   "cell_type": "markdown",
   "metadata": {},
   "source": [
    "# Prepare Datasets for CEJA sponsorship"
   ]
  },
  {
   "cell_type": "code",
   "execution_count": null,
   "metadata": {},
   "outputs": [],
   "source": [
    "# imports\n",
    "from pandasql import sqldf\n",
    "import pandas as pd\n",
    "from fuzzywuzzy import fuzz"
   ]
  },
  {
   "cell_type": "code",
   "execution_count": null,
   "metadata": {},
   "outputs": [],
   "source": [
    "# load data\n",
    "ceja_supporters_reps = pd.read_csv('../data/government/illinois/legislature/ceja/ceja-sponsors-reps.tsv', sep='\\t', comment=\"#\")\n",
    "ceja_supporters_sens = pd.read_csv('../data/government/illinois/legislature/ceja/ceja-sponsors-sens.tsv', sep='\\t', comment=\"#\")\n",
    "\n",
    "reps = pd.read_csv('../data/government/illinois/legislature/reps-102.tsv', sep='\\t', comment=\"#\")\n",
    "sens = pd.read_csv('../data/government/illinois/legislature/sens-102.tsv', sep='\\t', comment=\"#\")"
   ]
  },
  {
   "cell_type": "code",
   "execution_count": null,
   "metadata": {},
   "outputs": [],
   "source": [
    "# use fuzzy strings to match politician names\n",
    "# write the version in the rep/sen name CSV as a source of truth\n",
    "# https://towardsdatascience.com/fuzzy-string-matching-in-python-68f240d910fe\n",
    "# TODO sen join seems wrong? there's 34 sens in the list of names of sponsors, but less than that in the join\n",
    "# maybe some sponsors are no longer in office, so not in that list of sens?\n",
    "\n",
    "for rep in reps['name']:\n",
    "    for i in range(len(ceja_supporters_reps.index)):\n",
    "        if fuzz.partial_ratio(rep, ceja_supporters_reps['name'][i]) > 90:\n",
    "            print(f\"matched {rep} to {ceja_supporters_reps['name'][i]}\")\n",
    "            ceja_supporters_reps['name'][i] = rep\n",
    "            break\n",
    "                  \n",
    "for sen in sens['name']:\n",
    "    for i in range(len(ceja_supporters_sens.index)):\n",
    "        if fuzz.partial_ratio(sen, ceja_supporters_sens['name'][i]) > 90:\n",
    "            print(f\"matched {sen} to {ceja_supporters_sens['name'][i]}\")\n",
    "            ceja_supporters_sens['name'][i] = sen\n",
    "            break"
   ]
  },
  {
   "cell_type": "code",
   "execution_count": null,
   "metadata": {
    "scrolled": false
   },
   "outputs": [],
   "source": [
    "q_reps = \"\"\"\n",
    "SELECT reps.name, reps.district, 'True' as supports_ceja\n",
    "FROM reps, ceja_supporters_reps\n",
    "WHERE reps.name = ceja_supporters_reps.name\n",
    "UNION\n",
    "SELECT reps.name, reps.district, 'False' as supports_ceja\n",
    "FROM reps\n",
    "WHERE NOT EXISTS (\n",
    "    SELECT NULL\n",
    "    FROM ceja_supporters_reps\n",
    "    WHERE reps.name = ceja_supporters_reps.name\n",
    ")\n",
    "\"\"\"\n",
    "ceja_support_reps = sqldf(q_reps, globals())"
   ]
  },
  {
   "cell_type": "code",
   "execution_count": null,
   "metadata": {},
   "outputs": [],
   "source": [
    "q_sens = \"\"\"\n",
    "SELECT sens.name, sens.district, 'True' as supports_ceja\n",
    "FROM sens, ceja_supporters_sens\n",
    "WHERE sens.name = ceja_supporters_sens.name\n",
    "UNION\n",
    "SELECT sens.name, sens.district, 'False' as supports_ceja\n",
    "FROM sens\n",
    "WHERE NOT EXISTS (\n",
    "    SELECT NULL\n",
    "    FROM ceja_supporters_sens\n",
    "    WHERE sens.name = ceja_supporters_sens.name\n",
    ")\n",
    "\"\"\"\n",
    "ceja_support_sens = sqldf(q_sens, globals())"
   ]
  },
  {
   "cell_type": "code",
   "execution_count": null,
   "metadata": {},
   "outputs": [],
   "source": [
    "ceja_support_reps.to_csv('../data/government/illinois/legislature/ceja/ceja-sponsorship-reps.tsv', sep=\"\\t\", index=False)\n",
    "ceja_support_sens.to_csv('../data/government/illinois/legislature/ceja/ceja-sponsorship-sens.tsv', sep=\"\\t\", index=False)"
   ]
  },
  {
   "cell_type": "code",
   "execution_count": 95,
   "metadata": {},
   "outputs": [],
   "source": [
    "# load data\n",
    "iec_scores_reps = pd.read_csv('../data/government/illinois/legislature/ceja/sb2408-votes-house-raw.tsv', sep='\\t', comment=\"#\")\n",
    "ceja_votes_sens = pd.read_csv('../data/government/illinois/legislature/ceja/sb2408-votes-senate-raw.tsv', sep='\\t', comment=\"#\")\n",
    "\n",
    "reps = pd.read_csv('../data/government/illinois/legislature/reps-102.tsv', sep='\\t', comment=\"#\")\n",
    "sens = pd.read_csv('../data/government/illinois/legislature/sens-102.tsv', sep='\\t', comment=\"#\")"
   ]
  }
 ],
 "metadata": {
  "kernelspec": {
   "display_name": "Python 3.10.4 ('350-chicago-vis')",
   "language": "python",
   "name": "python3"
  },
  "language_info": {
   "codemirror_mode": {
    "name": "ipython",
    "version": 3
   },
   "file_extension": ".py",
   "mimetype": "text/x-python",
   "name": "python",
   "nbconvert_exporter": "python",
   "pygments_lexer": "ipython3",
   "version": "3.7.13"
  },
  "vscode": {
   "interpreter": {
    "hash": "328e9d63c793861827e4672fd9336ea83ec38b8187da8876eb1d9ab766c7b335"
   }
  }
 },
 "nbformat": 4,
 "nbformat_minor": 2
}
